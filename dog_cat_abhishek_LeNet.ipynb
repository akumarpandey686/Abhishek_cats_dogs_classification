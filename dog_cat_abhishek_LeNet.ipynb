{
  "nbformat": 4,
  "nbformat_minor": 0,
  "metadata": {
    "colab": {
      "name": "dog_cat_abhishek_LeNet.ipynb",
      "provenance": [],
      "mount_file_id": "1n8iOkhKnLWIiVN_TdGym-YmO9VtA3SK6",
      "authorship_tag": "ABX9TyMi7pGQrfhBS3gKVbngIMHN",
      "include_colab_link": true
    },
    "kernelspec": {
      "name": "python3",
      "display_name": "Python 3"
    },
    "accelerator": "GPU"
  },
  "cells": [
    {
      "cell_type": "markdown",
      "metadata": {
        "id": "view-in-github",
        "colab_type": "text"
      },
      "source": [
        "<a href=\"https://colab.research.google.com/github/akumarpandey686/Abhishek_cats_dogs_classification/blob/master/dog_cat_abhishek_LeNet.ipynb\" target=\"_parent\"><img src=\"https://colab.research.google.com/assets/colab-badge.svg\" alt=\"Open In Colab\"/></a>"
      ]
    },
    {
      "cell_type": "code",
      "metadata": {
        "id": "5XyKXziKGkbb",
        "colab_type": "code",
        "colab": {
          "base_uri": "https://localhost:8080/",
          "height": 34
        },
        "outputId": "b1ba40cf-9452-4dcf-cf17-34a60a2e1654"
      },
      "source": [
        "import keras\n",
        "from keras.layers import Conv2D, MaxPooling2D\n",
        "from keras.layers import Dense, Flatten\n",
        "from keras.models import Sequential"
      ],
      "execution_count": 1,
      "outputs": [
        {
          "output_type": "stream",
          "text": [
            "Using TensorFlow backend.\n"
          ],
          "name": "stderr"
        }
      ]
    },
    {
      "cell_type": "code",
      "metadata": {
        "id": "AQpevsKjG7xr",
        "colab_type": "code",
        "colab": {}
      },
      "source": [
        "model = Sequential()\n",
        "# Select 6 feature convolution kernels with a size of 3 * 3 (without offset), and get 6 feature maps. The size of each feature map is 32−3 + 1 = 30.\n",
        "# That is, the number of neurons has been reduced from 1024 to 30 ∗ 30 = 900 .\n",
        "# Parameters between input layer and C1 layer: 6 ∗ (3 ∗ 3 + 1)\n",
        "model.add(Conv2D(6, kernel_size=(3, 3), activation='relu', input_shape=(32, 32, 3)))\n",
        "# The input of this layer is the output of the first layer, which is a 30 * 30 * 6 node matrix.\n",
        "# The size of the filter used in this layer is 2 * 2, and the step length and width are both 2, so the output matrix size of this layer is 14 * 14 * 6.\n",
        "model.add(MaxPooling2D(pool_size=(2, 2)))\n",
        "# The input matrix size of this layer is 15 * 15 * 6, the filter size used is 3 * 3, and the depth is 16. This layer does not use all 0 padding, and the step size is 1.\n",
        "# The output matrix size of this layer is 13 * 13 * 16. This layer has 3 * 3 * 6 * 16 + 16 = 880 parameters\n",
        "model.add(Conv2D(16, kernel_size=(3, 3), activation='relu'))\n",
        "# The input matrix size of this layer is 13 * 13- * 16. The size of the filter used in this layer is 2 * 2, and the length and width steps are both 2, so the output matrix size of this layer is 5 * 5 * 16.\n",
        "model.add(MaxPooling2D(pool_size=(2, 2)))\n",
        "# The input matrix size of this layer is 6 * 6 * 16. This layer is called a convolution layer in the LeNet-5 paper, but because the size of the filter is 3 * 3, #\n",
        "# So it is not different from the fully connected layer. If the nodes in the 3 * 3 * 16 matrix are pulled into a vector, then this layer is the same as the fully connected layer.\n",
        "# The number of output nodes in this layer is 120, with a total of 3 * 3 * 16 * 120 + 120 = 17400 parameters.\n",
        "model.add(Flatten())\n",
        "model.add(Dense(120, activation='relu'))\n",
        "# The number of input nodes in this layer is 120 and the number of output nodes is 84. The total parameter is 120 * 84 + 84 = 10164 (w + b)\n",
        "model.add(Dense(84, activation='relu'))\n",
        "# The number of input nodes in this layer is 84 and the number of output nodes is 10. The total parameter is 84 * 10 + 10 = 850\n",
        "model.add(Dense(3, activation='softmax'))\n",
        "model.compile(loss=keras.metrics.categorical_crossentropy, optimizer=keras.optimizers.Adam(), metrics=['accuracy'])\n",
        "#model.fit(x_train, y_train, batch_size=128, epochs=20, verbose=1, validation_data=(x_test, y_test))\n",
        "#score = model.evaluate(x_test, y_test)\n",
        "#print('Test Loss:', score[0])\n",
        "#print('Test accuracy:', score[1])"
      ],
      "execution_count": 0,
      "outputs": []
    },
    {
      "cell_type": "code",
      "metadata": {
        "id": "r9TMASVGHYJ6",
        "colab_type": "code",
        "colab": {
          "base_uri": "https://localhost:8080/",
          "height": 768
        },
        "outputId": "01594ca7-eccf-4a39-e62f-bc91683a3adc"
      },
      "source": [
        "# Part 2 - Fitting the CNN to the images\n",
        "\n",
        "from keras.preprocessing.image import ImageDataGenerator\n",
        "\n",
        "train_datagen = ImageDataGenerator(rescale = 1./255,\n",
        "                                   shear_range = 0.2,\n",
        "                                   zoom_range = 0.2,\n",
        "                                   horizontal_flip = True)\n",
        "\n",
        "test_datagen = ImageDataGenerator(rescale = 1./255)\n",
        "\n",
        "training_set = train_datagen.flow_from_directory('/content/drive/My Drive/three_class_classification/training_set',\n",
        "                                                 target_size = (32, 32),\n",
        "                                                 batch_size = 16,\n",
        "                                                 class_mode = 'categorical')\n",
        "\n",
        "test_set = test_datagen.flow_from_directory('/content/drive/My Drive/three_class_classification/test_set',\n",
        "                                            target_size = (32, 32),\n",
        "                                            batch_size = 16,\n",
        "                                            class_mode = 'categorical')\n",
        "\n",
        "model.fit_generator(training_set,\n",
        "                         steps_per_epoch = 39,\n",
        "                         epochs = 20,\n",
        "                         validation_data = test_set,    \n",
        "                         validation_steps = 15)"
      ],
      "execution_count": 4,
      "outputs": [
        {
          "output_type": "stream",
          "text": [
            "Found 39 images belonging to 3 classes.\n",
            "Found 15 images belonging to 3 classes.\n",
            "Epoch 1/20\n",
            "39/39 [==============================] - 49s 1s/step - loss: 1.0049 - accuracy: 0.5168 - val_loss: 0.9353 - val_accuracy: 0.4667\n",
            "Epoch 2/20\n",
            "39/39 [==============================] - 9s 237ms/step - loss: 0.6537 - accuracy: 0.7377 - val_loss: 0.8113 - val_accuracy: 0.6667\n",
            "Epoch 3/20\n",
            "39/39 [==============================] - 9s 234ms/step - loss: 0.3916 - accuracy: 0.8698 - val_loss: 0.9256 - val_accuracy: 0.5333\n",
            "Epoch 4/20\n",
            "39/39 [==============================] - 9s 234ms/step - loss: 0.1842 - accuracy: 0.9586 - val_loss: 1.0366 - val_accuracy: 0.6667\n",
            "Epoch 5/20\n",
            "39/39 [==============================] - 9s 234ms/step - loss: 0.1130 - accuracy: 0.9744 - val_loss: 1.0961 - val_accuracy: 0.6667\n",
            "Epoch 6/20\n",
            "39/39 [==============================] - 9s 234ms/step - loss: 0.1620 - accuracy: 0.9467 - val_loss: 1.1713 - val_accuracy: 0.5333\n",
            "Epoch 7/20\n",
            "39/39 [==============================] - 9s 234ms/step - loss: 0.0694 - accuracy: 0.9901 - val_loss: 1.4493 - val_accuracy: 0.5333\n",
            "Epoch 8/20\n",
            "39/39 [==============================] - 9s 234ms/step - loss: 0.0320 - accuracy: 0.9941 - val_loss: 1.7001 - val_accuracy: 0.6000\n",
            "Epoch 9/20\n",
            "39/39 [==============================] - 9s 234ms/step - loss: 0.0196 - accuracy: 1.0000 - val_loss: 1.5367 - val_accuracy: 0.6000\n",
            "Epoch 10/20\n",
            "39/39 [==============================] - 9s 234ms/step - loss: 0.0091 - accuracy: 1.0000 - val_loss: 1.4505 - val_accuracy: 0.6000\n",
            "Epoch 11/20\n",
            "39/39 [==============================] - 9s 234ms/step - loss: 0.0048 - accuracy: 1.0000 - val_loss: 1.8050 - val_accuracy: 0.5333\n",
            "Epoch 12/20\n",
            "39/39 [==============================] - 9s 234ms/step - loss: 0.0042 - accuracy: 1.0000 - val_loss: 1.7688 - val_accuracy: 0.4667\n",
            "Epoch 13/20\n",
            "39/39 [==============================] - 9s 234ms/step - loss: 0.0025 - accuracy: 1.0000 - val_loss: 1.8804 - val_accuracy: 0.4667\n",
            "Epoch 14/20\n",
            "39/39 [==============================] - 9s 234ms/step - loss: 0.0028 - accuracy: 1.0000 - val_loss: 1.9608 - val_accuracy: 0.4667\n",
            "Epoch 15/20\n",
            "39/39 [==============================] - 9s 234ms/step - loss: 0.0021 - accuracy: 1.0000 - val_loss: 2.0932 - val_accuracy: 0.4667\n",
            "Epoch 16/20\n",
            "39/39 [==============================] - 9s 235ms/step - loss: 0.0013 - accuracy: 1.0000 - val_loss: 1.7700 - val_accuracy: 0.4667\n",
            "Epoch 17/20\n",
            "39/39 [==============================] - 9s 234ms/step - loss: 0.0013 - accuracy: 1.0000 - val_loss: 1.7796 - val_accuracy: 0.4667\n",
            "Epoch 18/20\n",
            "39/39 [==============================] - 9s 234ms/step - loss: 0.0010 - accuracy: 1.0000 - val_loss: 1.8153 - val_accuracy: 0.6000\n",
            "Epoch 19/20\n",
            "39/39 [==============================] - 9s 234ms/step - loss: 0.0010 - accuracy: 1.0000 - val_loss: 1.7903 - val_accuracy: 0.5333\n",
            "Epoch 20/20\n",
            "39/39 [==============================] - 9s 234ms/step - loss: 9.2865e-04 - accuracy: 1.0000 - val_loss: 1.8543 - val_accuracy: 0.4667\n"
          ],
          "name": "stdout"
        },
        {
          "output_type": "execute_result",
          "data": {
            "text/plain": [
              "<keras.callbacks.callbacks.History at 0x7f60b017e9e8>"
            ]
          },
          "metadata": {
            "tags": []
          },
          "execution_count": 4
        }
      ]
    },
    {
      "cell_type": "code",
      "metadata": {
        "id": "EHegSZRIH0M2",
        "colab_type": "code",
        "colab": {
          "base_uri": "https://localhost:8080/",
          "height": 34
        },
        "outputId": "c45a4e6c-1e7a-421d-8fee-62925d356a88"
      },
      "source": [
        "# Part 3 - Making new predictions\n",
        "import numpy as np\n",
        "from keras.preprocessing import image\n",
        "test_image = image.load_img('/content/drive/My Drive/three_class_classification/single_prediction/cat_or_dog_2.jpg', target_size = (32, 32))\n",
        "test_image = image.img_to_array(test_image)\n",
        "test_image = np.expand_dims(test_image, axis = 0)\n",
        "result = model.predict(test_image)\n",
        "training_set.class_indices"
      ],
      "execution_count": 7,
      "outputs": [
        {
          "output_type": "execute_result",
          "data": {
            "text/plain": [
              "{'Abhishek': 0, 'cats': 1, 'dogs': 2}"
            ]
          },
          "metadata": {
            "tags": []
          },
          "execution_count": 7
        }
      ]
    },
    {
      "cell_type": "code",
      "metadata": {
        "id": "RtJr0wKPKSQe",
        "colab_type": "code",
        "colab": {
          "base_uri": "https://localhost:8080/",
          "height": 34
        },
        "outputId": "b45a76bf-59b3-4743-dc9c-4dd94d3181df"
      },
      "source": [
        "print(result)"
      ],
      "execution_count": 8,
      "outputs": [
        {
          "output_type": "stream",
          "text": [
            "[[0. 1. 0.]]\n"
          ],
          "name": "stdout"
        }
      ]
    },
    {
      "cell_type": "code",
      "metadata": {
        "id": "Q6AsLAcMKASs",
        "colab_type": "code",
        "colab": {
          "base_uri": "https://localhost:8080/",
          "height": 34
        },
        "outputId": "19876d86-802a-403a-9172-5601c93e9f49"
      },
      "source": [
        "if result[0][0] == 1:\n",
        "    prediction = 'Abhishek'\n",
        "    print(prediction)\n",
        "elif result[0][1] == 1:\n",
        "    prediction = 'cats'\n",
        "    print(prediction)\n",
        "    \n",
        "else:\n",
        "    prediction = 'dogs'\n",
        "    print(prediction)"
      ],
      "execution_count": 9,
      "outputs": [
        {
          "output_type": "stream",
          "text": [
            "cats\n"
          ],
          "name": "stdout"
        }
      ]
    },
    {
      "cell_type": "code",
      "metadata": {
        "id": "yXcKEN2ZKaCZ",
        "colab_type": "code",
        "colab": {}
      },
      "source": [
        ""
      ],
      "execution_count": 0,
      "outputs": []
    }
  ]
}